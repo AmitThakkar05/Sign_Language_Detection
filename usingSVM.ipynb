{
 "cells": [
  {
   "cell_type": "code",
   "execution_count": 9,
   "id": "258abbc2-9ce5-4908-af08-6f6762954134",
   "metadata": {},
   "outputs": [],
   "source": [
    "import numpy as np\n",
    "import pandas as pd\n",
    "import pprint as pprint"
   ]
  },
  {
   "cell_type": "code",
   "execution_count": 2,
   "id": "dbecf40d-364a-4d37-95f5-a3dadc32a3bb",
   "metadata": {},
   "outputs": [
    {
     "data": {
      "text/plain": [
       "(27455, 785)"
      ]
     },
     "execution_count": 2,
     "metadata": {},
     "output_type": "execute_result"
    }
   ],
   "source": [
    "train_data = pd.read_csv(\"sign_mnist_train.csv\")\n",
    "y_train = train_data['label'].to_numpy()\n",
    "x_train = train_data.drop(['label'], axis = 1).to_numpy()\n",
    "\n",
    "train_data.shape"
   ]
  },
  {
   "cell_type": "code",
   "execution_count": 3,
   "id": "36de918d-0ed6-4f11-bdca-7f0794c3afde",
   "metadata": {},
   "outputs": [
    {
     "data": {
      "text/plain": [
       "(7172, 785)"
      ]
     },
     "execution_count": 3,
     "metadata": {},
     "output_type": "execute_result"
    }
   ],
   "source": [
    "test_data = pd.read_csv(\"sign_mnist_test.csv\")\n",
    "y_test = test_data['label'].to_numpy()\n",
    "x_test = test_data.drop(['label'], axis = 1).to_numpy()\n",
    "\n",
    "test_data.shape"
   ]
  },
  {
   "cell_type": "code",
   "execution_count": 4,
   "id": "a8f7fc00-1c86-45f0-a84c-1edb1ded3584",
   "metadata": {},
   "outputs": [
    {
     "data": {
      "text/plain": [
       "array([ 3,  6,  2, 13, 16,  8, 22, 18, 10, 20, 17, 19, 21, 23, 24,  1, 12,\n",
       "       11, 15,  4,  0,  5,  7, 14], dtype=int64)"
      ]
     },
     "execution_count": 4,
     "metadata": {},
     "output_type": "execute_result"
    }
   ],
   "source": [
    "classes = train_data['label'].unique()\n",
    "classes"
   ]
  },
  {
   "cell_type": "code",
   "execution_count": 7,
   "id": "6f2256ec-22aa-4c63-89a5-3404b0d92ed6",
   "metadata": {},
   "outputs": [],
   "source": [
    "from sklearn import svm"
   ]
  },
  {
   "cell_type": "code",
   "execution_count": 8,
   "id": "ebc4fe87-211c-47a7-91a1-bc31395de255",
   "metadata": {},
   "outputs": [],
   "source": [
    "linear = svm.SVC(kernel='linear', C=1, decision_function_shape='ovo').fit(x_train, y_train)\n",
    "rbf    = svm.SVC(kernel='rbf', gamma=1, C=1, decision_function_shape='ovo').fit(x_train, y_train)\n",
    "poly   = svm.SVC(kernel='poly', degree=3, C=1, decision_function_shape='ovo').fit(x_train, y_train)\n",
    "sig    = svm.SVC(kernel='sigmoid', C=1, decision_function_shape='ovo').fit(x_train, y_train)"
   ]
  },
  {
   "cell_type": "code",
   "execution_count": 10,
   "id": "483a7c3a-753a-40f4-a699-0b2136cd27b5",
   "metadata": {},
   "outputs": [],
   "source": [
    "linear_pred = linear.predict(x_test)\n",
    "poly_pred   = poly.predict(x_test)\n",
    "rbf_pred    = rbf.predict(x_test)\n",
    "sig_pred    = sig.predict(x_test)"
   ]
  },
  {
   "cell_type": "code",
   "execution_count": null,
   "id": "5349cf25-462e-4677-a23f-1449240a0739",
   "metadata": {},
   "outputs": [],
   "source": [
    "# retrieve the accuracy and print it for all 4 kernel functions\n",
    "accuracy_lin = linear.score(x_test, y_test)\n",
    "accuracy_poly = poly.score(x_test, y_test)\n",
    "accuracy_rbf = rbf.score(x_test, y_test)\n",
    "accuracy_sig = sig.score(x_test, y_test)\n",
    "\n",
    "print(\"Accuracy Linear Kernel:\", accuracy_lin)\n",
    "print(\"Accuracy Polynomial Kernel:\", accuracy_poly)\n",
    "print(\"Accuracy Radial Basis Kernel:\", accuracy_rbf)\n",
    "print(\"Accuracy Sigmoid Kernel:\", accuracy_sig)"
   ]
  },
  {
   "cell_type": "code",
   "execution_count": null,
   "id": "3e44f043-14ce-4395-a7ff-81a8035000bd",
   "metadata": {},
   "outputs": [],
   "source": []
  }
 ],
 "metadata": {
  "kernelspec": {
   "display_name": "Python 3 (ipykernel)",
   "language": "python",
   "name": "python3"
  },
  "language_info": {
   "codemirror_mode": {
    "name": "ipython",
    "version": 3
   },
   "file_extension": ".py",
   "mimetype": "text/x-python",
   "name": "python",
   "nbconvert_exporter": "python",
   "pygments_lexer": "ipython3",
   "version": "3.10.4"
  }
 },
 "nbformat": 4,
 "nbformat_minor": 5
}
